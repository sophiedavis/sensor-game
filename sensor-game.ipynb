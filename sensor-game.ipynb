{
 "cells": [
  {
   "cell_type": "code",
   "execution_count": 62,
   "metadata": {},
   "outputs": [],
   "source": [
    "from qhue import Bridge\n",
    "import winsound\n",
    "\n",
    "BRIDGE_IP='192.168.50.58'\n",
    "USERNAME='OCY9HRvqpGIvDusGAVDwMEV0CMDW1NvacFKvqf8N'\n",
    "bridge = Bridge(BRIDGE_IP, USERNAME)\n",
    "\n",
    "def start_game(lights):\n",
    "    for light in lights:\n",
    "        bridge.lights[light].state(on=False)\n",
    "\n",
    "    while bridge.sensors().get('152').get('state').get('presence') == False:\n",
    "        pass\n",
    "\n",
    "    for light in lights:\n",
    "        bridge.lights[light].state(on=True)\n",
    "    winsound.PlaySound('i_see_you.wav', winsound.SND_ASYNC)\n",
    "\n",
    "sophie_room_lights = bridge.groups().get('1').get('lights')\n",
    "living_room_lights = bridge.groups().get('3').get('lights')\n",
    "\n",
    "start_game(living_room_lights)"
   ]
  }
 ],
 "metadata": {
  "kernelspec": {
   "display_name": "Python 3",
   "language": "python",
   "name": "python3"
  },
  "language_info": {
   "codemirror_mode": {
    "name": "ipython",
    "version": 3
   },
   "file_extension": ".py",
   "mimetype": "text/x-python",
   "name": "python",
   "nbconvert_exporter": "python",
   "pygments_lexer": "ipython3",
   "version": "3.8.5"
  }
 },
 "nbformat": 4,
 "nbformat_minor": 4
}
